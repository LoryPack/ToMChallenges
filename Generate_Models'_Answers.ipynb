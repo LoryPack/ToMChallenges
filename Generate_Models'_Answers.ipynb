{
  "cells": [
    {
      "cell_type": "code",
      "execution_count": null,
      "metadata": {
        "id": "J0zLMoS4X7Dw"
      },
      "outputs": [],
      "source": [
        "import pandas as pd\n",
        "import numpy as np\n",
        "import itertools\n",
        "import time\n",
        "import openai\n",
        "import os, sys\n",
        "from tqdm.notebook import tqdm\n",
        "\n",
        "##Import openai key\n",
        "openai.api_key = '###########################'"
      ]
    },
    {
      "cell_type": "code",
      "execution_count": null,
      "metadata": {
        "id": "n-OlJFr-YVKs"
      },
      "outputs": [],
      "source": [
        "df_sally = pd.read_csv('Data/Sally-Ann_prompt.csv', index_col = 0)\n",
        "df_crayon = pd.read_csv('Data/Smarties_prompt.csv', index_col = 0)"
      ]
    },
    {
      "cell_type": "markdown",
      "source": [
        "## Define openai function"
      ],
      "metadata": {
        "id": "zqlD8BN9lmeC"
      }
    },
    {
      "cell_type": "code",
      "execution_count": 1,
      "metadata": {
        "id": "b3bYJjAvZO-7"
      },
      "outputs": [],
      "source": [
        "def get_response(prompt, max_tokens):\n",
        "    rgpt4 = openai.ChatCompletion.create(\n",
        "      messages=[{\"role\": \"user\", \"content\": prompt}],\n",
        "      model = 'gpt-4-0613',\n",
        "      temperature=0,\n",
        "      max_tokens=max_tokens,\n",
        "      top_p=1,\n",
        "      frequency_penalty=0,\n",
        "      presence_penalty=0)\n",
        "    rturbo = openai.ChatCompletion.create(\n",
        "      messages=[{\"role\": \"user\", \"content\": prompt}],\n",
        "      model = 'gpt-3.5-turbo-0301',\n",
        "      temperature=0,\n",
        "      max_tokens=max_tokens,\n",
        "      top_p=1,\n",
        "      frequency_penalty=0,\n",
        "      presence_penalty=0)\n",
        "    rdvc = openai.Completion.create(\n",
        "      prompt = prompt,\n",
        "      model = 'text-davinci-003',\n",
        "      temperature=0,\n",
        "      max_tokens=max_tokens,\n",
        "      top_p=1,\n",
        "      frequency_penalty=0,\n",
        "      presence_penalty=0\t)\n",
        "    return rgpt4['choices'][0]['message']['content'], rturbo['choices'][0]['message']['content'], rdvc['choices'][0]['text']"
      ]
    },
    {
      "cell_type": "code",
      "execution_count": null,
      "metadata": {
        "id": "1C3XdvWZgA15"
      },
      "outputs": [],
      "source": [
        "def run(col_prompt, col_response, max_token, df):\n",
        "    col_response_gpt4 = col_response + '_gpt4_pred'\n",
        "    col_response_turbo = col_response + '_turbo_pred'\n",
        "    col_response_davinci = col_response + '_davinci_pred'\n",
        "    df[col_response_gpt4] = ''\n",
        "    df[col_response_turbo] = ''\n",
        "    df[col_response_davinci] = ''\n",
        "    max_attempts = 10\n",
        "    for index, row in tqdm(df.iterrows(), total=df.shape[0]):\n",
        "        if pd.isna(row[col_response]) or row[col_response] == '':\n",
        "            for attempt in range(max_attempts):\n",
        "                try:\n",
        "                    response = get_response(row[col_prompt], max_token)\n",
        "                    df.at[index, col_response_gpt4] = response[0]\n",
        "                    df.at[index, col_response_turbo] = response[1]\n",
        "                    df.at[index, col_response_davinci] = response[2]\n",
        "                    break  # if the attempt was successful, break out of the retry loop\n",
        "                except Exception as e:\n",
        "                    print(f\"Encountered an error at index {index}. Retrying attempt {attempt+1}...\")\n",
        "                    time.sleep(5)  # pause execution for 5 seconds before next attempt, adjust as needed\n",
        "            else:  # this else clause executes after the for loop finishes without a break (i.e., all attempts failed)\n",
        "                print(f\"Failed to get a response after {max_attempts} attempts at index {index}. Moving on to next row.\")\n",
        "    return df\n"
      ]
    },
    {
      "cell_type": "markdown",
      "metadata": {
        "id": "IFYHOlZJgA16"
      },
      "source": [
        "## Generate answers:\n",
        "**prompt column names:**\n",
        "\n",
        "Question and Answer = qa_prompt,\n",
        "\n",
        "Completion = comp_prompt,\n",
        "\n",
        "Multiple choice = mc_prompt,\n",
        "\n",
        "Fill in Blank = fb_prompt,\n",
        "\n",
        "True or False = tf_prompt,\n",
        "\n",
        "True or False with reason = tfr_prompt<br>\n",
        "**max tokens**\n",
        "\n",
        "qa: 50, comp: 50, mc: 2, fb: 10, tf: 20, tfr: 100"
      ]
    },
    {
      "cell_type": "markdown",
      "metadata": {
        "id": "05SHtgEogA16"
      },
      "source": [
        "QA"
      ]
    },
    {
      "cell_type": "code",
      "execution_count": null,
      "metadata": {
        "id": "eGSGYiRLgA16"
      },
      "outputs": [],
      "source": [
        "df_sally = run('qa_prompt', 'qa', 50, df_sally)"
      ]
    },
    {
      "cell_type": "code",
      "execution_count": null,
      "metadata": {
        "id": "9oFfrsr8gA16",
        "outputId": "77f61954-d085-49d0-9be0-5a47134c154e",
        "colab": {
          "referenced_widgets": [
            "90700943c14f4e0bac5e82ab0057bc54"
          ]
        }
      },
      "outputs": [
        {
          "data": {
            "application/vnd.jupyter.widget-view+json": {
              "model_id": "90700943c14f4e0bac5e82ab0057bc54",
              "version_major": 2,
              "version_minor": 0
            },
            "text/plain": [
              "  0%|          | 0/180 [00:00<?, ?it/s]"
            ]
          },
          "metadata": {},
          "output_type": "display_data"
        }
      ],
      "source": [
        "df_crayon = run('qa_prompt', 'qa', 50, df_crayon)"
      ]
    },
    {
      "cell_type": "markdown",
      "metadata": {
        "id": "I1EEvOXEgA17"
      },
      "source": [
        "Completion"
      ]
    },
    {
      "cell_type": "code",
      "execution_count": null,
      "metadata": {
        "id": "5t3XYd2ugA17",
        "outputId": "fe182a0c-3c3d-4d43-d474-046b02bfa3b4",
        "colab": {
          "referenced_widgets": [
            "3701d2c2fb514deb9df52540c4125ea4"
          ]
        }
      },
      "outputs": [
        {
          "data": {
            "application/vnd.jupyter.widget-view+json": {
              "model_id": "3701d2c2fb514deb9df52540c4125ea4",
              "version_major": 2,
              "version_minor": 0
            },
            "text/plain": [
              "  0%|          | 0/180 [00:00<?, ?it/s]"
            ]
          },
          "metadata": {},
          "output_type": "display_data"
        },
        {
          "name": "stdout",
          "output_type": "stream",
          "text": [
            "Encountered an error at index 0. Retrying attempt 1...\n"
          ]
        }
      ],
      "source": [
        "df_sally = run('comp_prompt', 'comp', 50, df_sally)"
      ]
    },
    {
      "cell_type": "code",
      "execution_count": null,
      "metadata": {
        "id": "8FIMO8cngA17",
        "outputId": "2adca414-30da-4340-edef-04d3db0c58f1",
        "colab": {
          "referenced_widgets": [
            "9c125aa48a2e46da9698e35598aed502"
          ]
        }
      },
      "outputs": [
        {
          "data": {
            "application/vnd.jupyter.widget-view+json": {
              "model_id": "9c125aa48a2e46da9698e35598aed502",
              "version_major": 2,
              "version_minor": 0
            },
            "text/plain": [
              "  0%|          | 0/180 [00:00<?, ?it/s]"
            ]
          },
          "metadata": {},
          "output_type": "display_data"
        }
      ],
      "source": [
        "df_crayon = run('comp_prompt', 'comp', 50, df_crayon)"
      ]
    },
    {
      "cell_type": "markdown",
      "metadata": {
        "id": "KA9Y0KnrgA17"
      },
      "source": [
        "Multiple choice"
      ]
    },
    {
      "cell_type": "code",
      "execution_count": null,
      "metadata": {
        "id": "dD4gqIhEgA17",
        "outputId": "8c7051eb-c3e1-4aca-a4fa-45970bb6df31",
        "colab": {
          "referenced_widgets": [
            "b946ba0989094108955a94a27ca31983"
          ]
        }
      },
      "outputs": [
        {
          "data": {
            "application/vnd.jupyter.widget-view+json": {
              "model_id": "b946ba0989094108955a94a27ca31983",
              "version_major": 2,
              "version_minor": 0
            },
            "text/plain": [
              "  0%|          | 0/180 [00:00<?, ?it/s]"
            ]
          },
          "metadata": {},
          "output_type": "display_data"
        }
      ],
      "source": [
        "df_sally = run('mc_prompt', 'mc', 2, df_sally)"
      ]
    },
    {
      "cell_type": "code",
      "execution_count": null,
      "metadata": {
        "id": "dVh3-CpmgA17",
        "outputId": "0578d253-b7d4-4be2-9ab7-bd8865c31892",
        "colab": {
          "referenced_widgets": [
            "7204e5d274a941b2be4f265eb486d1cd"
          ]
        }
      },
      "outputs": [
        {
          "data": {
            "application/vnd.jupyter.widget-view+json": {
              "model_id": "7204e5d274a941b2be4f265eb486d1cd",
              "version_major": 2,
              "version_minor": 0
            },
            "text/plain": [
              "  0%|          | 0/180 [00:00<?, ?it/s]"
            ]
          },
          "metadata": {},
          "output_type": "display_data"
        }
      ],
      "source": [
        "df_crayon = run('mc_prompt', 'mc', 2, df_crayon)"
      ]
    },
    {
      "cell_type": "markdown",
      "source": [
        "Fill in Blank"
      ],
      "metadata": {
        "id": "eMm_u6rEl8xq"
      }
    },
    {
      "cell_type": "code",
      "execution_count": null,
      "metadata": {
        "id": "gSfYW0eVgA17",
        "outputId": "334a0cda-95be-47c4-8305-eaff828eeda3",
        "colab": {
          "referenced_widgets": [
            "3036f6a1a32d4064a40e97acdf3de17a"
          ]
        }
      },
      "outputs": [
        {
          "data": {
            "application/vnd.jupyter.widget-view+json": {
              "model_id": "3036f6a1a32d4064a40e97acdf3de17a",
              "version_major": 2,
              "version_minor": 0
            },
            "text/plain": [
              "  0%|          | 0/180 [00:00<?, ?it/s]"
            ]
          },
          "metadata": {},
          "output_type": "display_data"
        }
      ],
      "source": [
        "df_sally = run('fb_prompt', 'fb', 10, df_sally)"
      ]
    },
    {
      "cell_type": "code",
      "execution_count": null,
      "metadata": {
        "id": "iATSpmHWgA17",
        "outputId": "ff042f57-6973-4e3d-b7e9-73e5c05b0960",
        "colab": {
          "referenced_widgets": [
            "41f6320c15af4d24a005eea82470301d"
          ]
        }
      },
      "outputs": [
        {
          "data": {
            "application/vnd.jupyter.widget-view+json": {
              "model_id": "41f6320c15af4d24a005eea82470301d",
              "version_major": 2,
              "version_minor": 0
            },
            "text/plain": [
              "  0%|          | 0/180 [00:00<?, ?it/s]"
            ]
          },
          "metadata": {},
          "output_type": "display_data"
        }
      ],
      "source": [
        "df_crayon = run('fb_prompt', 'fb', 10, df_crayon)"
      ]
    },
    {
      "cell_type": "markdown",
      "source": [
        "True or False"
      ],
      "metadata": {
        "id": "iimPt0pumEsm"
      }
    },
    {
      "cell_type": "code",
      "execution_count": null,
      "metadata": {
        "id": "J1FCE4WJgA17",
        "outputId": "9f3da7a3-588d-4990-efb2-0524562eb24c",
        "colab": {
          "referenced_widgets": [
            "f2865e7f69914721b8099161028eec19"
          ]
        }
      },
      "outputs": [
        {
          "data": {
            "application/vnd.jupyter.widget-view+json": {
              "model_id": "f2865e7f69914721b8099161028eec19",
              "version_major": 2,
              "version_minor": 0
            },
            "text/plain": [
              "  0%|          | 0/180 [00:00<?, ?it/s]"
            ]
          },
          "metadata": {},
          "output_type": "display_data"
        }
      ],
      "source": [
        "df_sally = run('tf_prompt', 'tf', 20, df_sally)"
      ]
    },
    {
      "cell_type": "code",
      "execution_count": null,
      "metadata": {
        "id": "tmpbX9JVgA17",
        "outputId": "7eb865f9-4fb0-4bdd-c9c9-b45df9b8f6ef",
        "colab": {
          "referenced_widgets": [
            "ef12892327794ddcb3fa57165fb3ed6d"
          ]
        }
      },
      "outputs": [
        {
          "data": {
            "application/vnd.jupyter.widget-view+json": {
              "model_id": "ef12892327794ddcb3fa57165fb3ed6d",
              "version_major": 2,
              "version_minor": 0
            },
            "text/plain": [
              "  0%|          | 0/180 [00:00<?, ?it/s]"
            ]
          },
          "metadata": {},
          "output_type": "display_data"
        }
      ],
      "source": [
        "df_crayon = run('tf_prompt', 'tf', 20, df_crayon)"
      ]
    },
    {
      "cell_type": "markdown",
      "source": [
        "True or False with Reason"
      ],
      "metadata": {
        "id": "AkNpQXIOmGy-"
      }
    },
    {
      "cell_type": "code",
      "execution_count": null,
      "metadata": {
        "id": "_0lzq2HsgA17",
        "outputId": "f5ba76a5-6e81-4c5c-dcea-2497fdb3bd1c",
        "colab": {
          "referenced_widgets": [
            "b4b6595ff84747d58c2079d6358c66b8"
          ]
        }
      },
      "outputs": [
        {
          "data": {
            "application/vnd.jupyter.widget-view+json": {
              "model_id": "b4b6595ff84747d58c2079d6358c66b8",
              "version_major": 2,
              "version_minor": 0
            },
            "text/plain": [
              "  0%|          | 0/180 [00:00<?, ?it/s]"
            ]
          },
          "metadata": {},
          "output_type": "display_data"
        },
        {
          "name": "stdout",
          "output_type": "stream",
          "text": [
            "Encountered an error at index 175. Retrying attempt 1...\n"
          ]
        }
      ],
      "source": [
        "df_sally = run('tfr_prompt', 'tfr', 100, df_sally)"
      ]
    },
    {
      "cell_type": "code",
      "execution_count": null,
      "metadata": {
        "id": "VX_h-tGUgA18",
        "outputId": "9fc146d2-0c27-41a6-c78e-a0ad4f3721ae",
        "colab": {
          "referenced_widgets": [
            "2e669ee259ce48a9a84a7eaa58c7ed73"
          ]
        }
      },
      "outputs": [
        {
          "data": {
            "application/vnd.jupyter.widget-view+json": {
              "model_id": "2e669ee259ce48a9a84a7eaa58c7ed73",
              "version_major": 2,
              "version_minor": 0
            },
            "text/plain": [
              "  0%|          | 0/180 [00:00<?, ?it/s]"
            ]
          },
          "metadata": {},
          "output_type": "display_data"
        },
        {
          "name": "stdout",
          "output_type": "stream",
          "text": [
            "Encountered an error at index 55. Retrying attempt 1...\n"
          ]
        }
      ],
      "source": [
        "df_crayon = run('tfr_prompt', 'tfr', 100, df_crayon)"
      ]
    }
  ],
  "metadata": {
    "colab": {
      "provenance": []
    },
    "kernelspec": {
      "display_name": "Python 3",
      "language": "python",
      "name": "python3"
    },
    "language_info": {
      "codemirror_mode": {
        "name": "ipython",
        "version": 3
      },
      "file_extension": ".py",
      "mimetype": "text/x-python",
      "name": "python",
      "nbconvert_exporter": "python",
      "pygments_lexer": "ipython3",
      "version": "3.7.7"
    }
  },
  "nbformat": 4,
  "nbformat_minor": 0
}