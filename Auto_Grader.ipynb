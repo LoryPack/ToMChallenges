{
  "cells": [
    {
      "cell_type": "code",
      "execution_count": null,
      "metadata": {
        "id": "478jhHzWqskw"
      },
      "outputs": [],
      "source": [
        "!pip install openai\n",
        "import pandas as pd\n",
        "import numpy as np\n",
        "import itertools\n",
        "import time\n",
        "import openai\n",
        "from tqdm.notebook import tqdm\n",
        "import os, sys\n",
        "openai.api_key = '##################'"
      ]
    },
    {
      "cell_type": "code",
      "execution_count": 35,
      "metadata": {
        "id": "MgbqxPFspZqV"
      },
      "outputs": [],
      "source": [
        "df_sally = pd.read_csv('Results/Sally-Ann_result.csv', index_col = 0)\n",
        "df_crayon = pd.read_csv('Results/Crayon-Box_result.csv', index_col = 0)"
      ]
    },
    {
      "cell_type": "markdown",
      "source": [
        "##Prompt for AutoGrader\n",
        "\n",
        "The autograder is used to grade open ended generations, i.e. the qa and completion."
      ],
      "metadata": {
        "id": "M9acEpW9KxG0"
      }
    },
    {
      "cell_type": "code",
      "execution_count": 5,
      "metadata": {
        "id": "1N39zsCuCoZj"
      },
      "outputs": [],
      "source": [
        "assess_smarties = \"\"\"Reasoning:\n",
        "          This is a Smarties story. Person A is Neila and Person B is Juanita. The container is a bag. Item X is plate and item Y is vest.\n",
        "          Key facts:\n",
        "          1. reality: A vest is in the bag because Neila found a vest in the bag.\n",
        "          2. anti-reality: There supposed to be a plate in the bag because the label says plate.\n",
        "          3. 1st order belief of Neila: Neila expects to find a vest in the bag because she already opened the bag and found a vest.\n",
        "          4. 1st order belief of Juanita: Juanita expects fo find a plate in the bag because the label says plate and doesn't know there's actually a vest in the bag.\n",
        "          5. 2nd order belief of Neila: Neila thinks that Juanita expects to find a plate in the bag, because she knows that Juanita doesn't know there's actually a vest in the bag.\n",
        "          6. 2nd order belief of Juanita: Juanita thinks that Neila expects to find a plate in the bag, because she doesn't know that Neila already opened the bag and found a vest.\n",
        "          The response to the prompts suggests that Juanita thinks Neila expects to find a plate, but instead she found a vest.\n",
        "          The answer is correct because it is align with key facts 6.\n",
        "\n",
        "          Grade:\n",
        "          Correct.\"\"\""
      ]
    },
    {
      "cell_type": "code",
      "execution_count": 6,
      "metadata": {
        "id": "0w6hk_wUrg9v"
      },
      "outputs": [],
      "source": [
        "assess_sallyannee = \"\"\"Reasoning:\n",
        "          This is a Sally-Ann story. Person A is Neila and Person B is Juanita. The item is a towel. Location X is the closet and Location Y is the cabinet.\n",
        "          Key facts:\n",
        "          1. reality: The towel is currently in the cabinet because Neila moved it there.\n",
        "          2. anti-reality: The towel was in the closet before.\n",
        "          3. 1st order belief of Neila: Neila would look for the towel in the cabinet because she moved it there.\n",
        "          4. 1st order belief of Juanita: Juanita would look for the towel in the closet because she didn't know that Neila moved it.\n",
        "          5. 2nd order belief of Neila: Neila would think that Juanita looks for the towel in the closet because she knew that Juanita didn't see her move the towel to the cabinet.\n",
        "          6. 2nd order belief of Juanita: Juanita would think that Neila looks for the towel in the closet because she didn't know that Neila already moved it.\n",
        "          The response to the prompts suggests that Neila would think that Juanita would look for the towel in the cabinet.\n",
        "          The answer is incorrect because it is contradictint key fact 5.\n",
        "\n",
        "          Grade:\n",
        "          Incorrect.\"\"\""
      ]
    },
    {
      "cell_type": "code",
      "execution_count": 7,
      "metadata": {
        "id": "RQ-k2v7cpnFx"
      },
      "outputs": [],
      "source": [
        "system = \"\"\"You are a helpful grader. You will be given a series of Prompt and Response pairs about Theory of Mind.\n",
        "            You first need to reason about the context in the Prompt and figure out the key facts.\n",
        "            There are two types of story in the context.\n",
        "            The Sally-Ann story is about two people (Person A and Person B) found an item in location X. Person B left the room and Person A moved the item to location Y.\n",
        "            Key facts for Sally-Ann story include:\n",
        "            1. reality: the current location of the item, which is location Y.\n",
        "            2. anti-reality: the previous location of the item, which is location X.\n",
        "            3. 1st order belief of Person A: what Person A thinks the current location of the item, which is location Y.\n",
        "            4. 1st order belief of Person B: what Person B thinks the current location of the item, whic is location X.\n",
        "            5. 2nd order belief of Person A: what Person A thinks that Person B thinks the current location of the item, which is location X.\n",
        "            6. 2nd order belief of Person B: what Person B thinks that Person A thinks the current location of the item, which is location Y.\n",
        "            The Smarties story is about Person A found a container. The label on the container says item X, but there's no item X in the container. Person A opened the container and found item Y. Later, Person B entered the room and saw the container.\n",
        "            Key facts for Smarties story include:\n",
        "            1. reality: what's inside the container, which is item Y.\n",
        "            2. anti-reality: what supposed to be in the container according to the label, which is item X.\n",
        "            3. 1st order belief of Person A: what Person A expects to find in the container, which is item Y (because Person A already opened the bag and found Y).\n",
        "            4. 1st order belief of Person B: what Person B expects to find in the container, which is item X.\n",
        "            5. 2nd order belief of Person A: what Person A thinks that Person B expects to find in the container, which is item X.\n",
        "            6. 2nd order belief of Person B: what Person B thinks that Person A thinks is in the container, which is item X.\n",
        "\n",
        "            After identifying the key facts of the context, you can take a look at the response to see if that is align with the key facts.\n",
        "            If the response align with the key facts, it can be graded as correct. Otherwise it's incorrect. \"\"\""
      ]
    },
    {
      "cell_type": "code",
      "source": [
        "user_sallyanne = 'Prompt:\\n' + df_sally['qa_prompt'][4] + '\\nResponse:\\n' + df_sally['qa_turbo_pred'][4]\n",
        "user_smarties = 'Prompt:\\n' + df_crayon['comp_prompt'][4] + '\\nResponse:\\n' + df_crayon['comp_turbo_pred'][4]"
      ],
      "metadata": {
        "id": "4x2IAZssICAC"
      },
      "execution_count": 8,
      "outputs": []
    },
    {
      "cell_type": "code",
      "execution_count": 9,
      "metadata": {
        "id": "gsK3aYNfarQ5"
      },
      "outputs": [],
      "source": [
        "input = [{\"role\": \"system\", \"content\": system},\n",
        "         {\"role\": \"user\", \"content\": user_sallyanne},\n",
        "         {\"role\": \"assistant\", \"content\": assess_sallyannee },\n",
        "         {\"role\": \"user\", \"content\": user_smarties},\n",
        "         {\"role\": \"assistant\", \"content\": assess_smarties}]"
      ]
    },
    {
      "cell_type": "markdown",
      "source": [
        "##Example Use:\n",
        "\n",
        "Grading the qa_answer in sally-anne. The turbo model's response is wrong."
      ],
      "metadata": {
        "id": "Ff7C6K-GJwCC"
      }
    },
    {
      "cell_type": "code",
      "source": [
        "print(\"original answer:\")\n",
        "print('Prompt:\\n' + df_sally['qa_prompt'][8] + '\\nShort Answer:\\n' + df_sally['short_answer'][8] + '\\nResponse:\\n' + df_sally['qa_turbo_pred'][8])"
      ],
      "metadata": {
        "colab": {
          "base_uri": "https://localhost:8080/"
        },
        "id": "kZBFVAj-J40p",
        "outputId": "9e8c8582-fb8a-491e-882b-b04c42d36819"
      },
      "execution_count": 15,
      "outputs": [
        {
          "output_type": "stream",
          "name": "stdout",
          "text": [
            "original answer:\n",
            "Prompt:\n",
            "Answer the question based on context:\n",
            "\n",
            "Context:Sabra and Hillary were hanging out in the bedroom. They saw a briefcase and a bucket. They found a mitten in the briefcase. Hillary left the bedroom. Sabra moved the mitten to the bucket.\n",
            "Question:\n",
            "After Hillary came back to the bedroom, where would Hillary look for the mitten?\n",
            "Short Answer:\n",
            "briefcase.\n",
            "Response:\n",
            "Hillary would most likely look in the bucket where Sabra moved the mitten.\n"
          ]
        }
      ]
    },
    {
      "cell_type": "code",
      "execution_count": 10,
      "metadata": {
        "id": "r5RByn7YdJMr"
      },
      "outputs": [],
      "source": [
        "input.append({\"role\": \"user\", \"content\": 'Prompt:\\n' + df_sally['qa_prompt'][8] + '\\nResponse:\\n' + df_sally['qa_turbo_pred'][8]})"
      ]
    },
    {
      "cell_type": "code",
      "execution_count": 11,
      "metadata": {
        "id": "lVzV5iprRrA6"
      },
      "outputs": [],
      "source": [
        "grade = openai.ChatCompletion.create(\n",
        "      messages=input,\n",
        "      model = 'gpt-4-0613',\n",
        "      temperature=0,\n",
        "      max_tokens= 500,\n",
        "      top_p=1,\n",
        "      frequency_penalty=0,\n",
        "      presence_penalty=0)"
      ]
    },
    {
      "cell_type": "code",
      "execution_count": 13,
      "metadata": {
        "colab": {
          "base_uri": "https://localhost:8080/"
        },
        "id": "VLR0QTAddxlY",
        "outputId": "274e405d-bace-48dc-f486-537a17273834"
      },
      "outputs": [
        {
          "output_type": "execute_result",
          "data": {
            "text/plain": [
              "0"
            ]
          },
          "metadata": {},
          "execution_count": 13
        }
      ],
      "source": [
        "##Human Grade to this answer. 0 means wrong.\n",
        "df_sally['qa_turbo_grad'][8]"
      ]
    },
    {
      "cell_type": "code",
      "execution_count": 12,
      "metadata": {
        "colab": {
          "base_uri": "https://localhost:8080/"
        },
        "id": "eJ4iWgdldo_W",
        "outputId": "f50b1c88-1385-4074-c340-110fb4ea98a6"
      },
      "outputs": [
        {
          "output_type": "stream",
          "name": "stdout",
          "text": [
            "Reasoning:\n",
            "          This is a Sally-Ann story. Person A is Sabra and Person B is Hillary. The item is a mitten. Location X is the briefcase and Location Y is the bucket.\n",
            "          Key facts:\n",
            "          1. reality: The mitten is currently in the bucket because Sabra moved it there.\n",
            "          2. anti-reality: The mitten was in the briefcase before.\n",
            "          3. 1st order belief of Sabra: Sabra would look for the mitten in the bucket because she moved it there.\n",
            "          4. 1st order belief of Hillary: Hillary would look for the mitten in the briefcase because she didn't know that Sabra moved it.\n",
            "          5. 2nd order belief of Sabra: Sabra would think that Hillary looks for the mitten in the briefcase because she knew that Hillary didn't see her move the mitten to the bucket.\n",
            "          6. 2nd order belief of Hillary: Hillary would think that Sabra looks for the mitten in the briefcase because she didn't know that Sabra already moved it.\n",
            "          The response to the prompts suggests that Hillary would look for the mitten in the bucket.\n",
            "          The answer is incorrect because it is contradicting key fact 4.\n",
            "\n",
            "          Grade:\n",
            "          Incorrect.\n"
          ]
        }
      ],
      "source": [
        "##Autograder's result is align with human grader.\n",
        "print(grade['choices'][0]['message']['content'])"
      ]
    },
    {
      "cell_type": "markdown",
      "source": [
        "## Generate auto grading results for qa and comp"
      ],
      "metadata": {
        "id": "Z_yXHZupK9zU"
      }
    },
    {
      "cell_type": "code",
      "source": [
        "def get_grade(input):\n",
        "  raw_grade = openai.ChatCompletion.create(\n",
        "    messages=input,\n",
        "    model = 'gpt-4-0613',\n",
        "    temperature=0,\n",
        "    max_tokens= 500,\n",
        "    top_p=1,\n",
        "    frequency_penalty=0,\n",
        "    presence_penalty=0)\n",
        "  return raw_grade['choices'][0]['message']['content']"
      ],
      "metadata": {
        "id": "iNLxM8WcOtFu"
      },
      "execution_count": 16,
      "outputs": []
    },
    {
      "cell_type": "code",
      "execution_count": 33,
      "metadata": {
        "id": "ro0-T7Isec1Q"
      },
      "outputs": [],
      "source": [
        "input = [{\"role\": \"system\", \"content\": system},\n",
        "         {\"role\": \"user\", \"content\": user_sallyanne},\n",
        "         {\"role\": \"assistant\", \"content\": assess_sallyannee},\n",
        "         {\"role\": \"user\", \"content\": user_smarties},\n",
        "         {\"role\": \"assistant\", \"content\": assess_smarties}]\n",
        "def auto_grader(df, task, model):\n",
        "  col_prompt = '_'.join([task, 'prompt'])\n",
        "  col_pred = '_'.join([task, model, 'pred'])\n",
        "  col_autograde_num = '_'.join([task, model, 'autograde'])\n",
        "  col_autograde_full= '_'.join([task, model, 'autograde', 'full'])\n",
        "  df[col_autograde_num] = ''\n",
        "  df[col_autograde_full] = ''\n",
        "  max_attempts = 10\n",
        "  for index, row in tqdm(df.iterrows(), total=df.shape[0]):\n",
        "    if pd.isna(row[col_autograde_num]) or row[col_autograde_full] == '':\n",
        "      for attempt in range(max_attempts):\n",
        "        prompt = row[col_prompt]\n",
        "        pred = row[col_pred]\n",
        "        user = {\"role\": \"user\", \"content\": \"Prompt:\\n\" + prompt + \"\\nResponse:\\n\" + pred}\n",
        "        input.append(user)\n",
        "        try:\n",
        "          full_grade = get_grade(input)\n",
        "          df.at[index, col_autograde_full] = full_grade\n",
        "          score = full_grade.split('\\n')[-1].lstrip().rstrip()\n",
        "          print('here5')\n",
        "          if score.lower() == \"incorrect\":\n",
        "            df.at[index, col_autograde_num] = 0\n",
        "          else:\n",
        "            df.at[index, col_autograde_num] = 1\n",
        "        except Exception as e:\n",
        "          print(f\"Encountered an error at index {index}. Retrying attempt {attempt+1}...\")\n",
        "          time.sleep(5)\n",
        "      else:\n",
        "        print(f\"Failed to get a response after {max_attempts} attempts at index {index}. Moving on to next row.\")\n",
        "  return df"
      ]
    },
    {
      "cell_type": "code",
      "execution_count": null,
      "metadata": {
        "id": "8gemvhSzhuWx"
      },
      "outputs": [],
      "source": [
        "for task in ['qa', 'comp']:\n",
        "  for model in ['davinci', 'turbo', 'gpt4']:\n",
        "    df_sally = auto_grader(df_sally, task, model)\n",
        "    df_crayon = auto_grader(df_crayon, task, model)"
      ]
    }
  ],
  "metadata": {
    "colab": {
      "provenance": []
    },
    "kernelspec": {
      "display_name": "Python 3",
      "name": "python3"
    },
    "language_info": {
      "name": "python"
    }
  },
  "nbformat": 4,
  "nbformat_minor": 0
}